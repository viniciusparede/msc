{
 "cells": [
  {
   "cell_type": "code",
   "execution_count": 1,
   "metadata": {},
   "outputs": [],
   "source": [
    "import os\n",
    "import sys\n",
    "\n",
    "sys.path.append(os.path.dirname(os.getcwd()))"
   ]
  },
  {
   "cell_type": "code",
   "execution_count": 2,
   "metadata": {},
   "outputs": [
    {
     "name": "stderr",
     "output_type": "stream",
     "text": [
      "/tmp/ipykernel_9218/2109190447.py:2: DeprecationWarning: \n",
      "Pyarrow will become a required dependency of pandas in the next major release of pandas (pandas 3.0),\n",
      "(to allow more performant data types, such as the Arrow string type, and better interoperability with other libraries)\n",
      "but was not found to be installed on your system.\n",
      "If this would cause problems for you,\n",
      "please provide us feedback at https://github.com/pandas-dev/pandas/issues/54466\n",
      "        \n",
      "  import pandas as pd\n"
     ]
    }
   ],
   "source": [
    "import numpy as np\n",
    "import pandas as pd\n",
    "\n",
    "\n",
    "from data_utils import read_cmu_mosei, open_sentence"
   ]
  },
  {
   "cell_type": "code",
   "execution_count": 3,
   "metadata": {},
   "outputs": [
    {
     "name": "stdout",
     "output_type": "stream",
     "text": [
      "\u001b[92m\u001b[1m[2024-01-28 17:38:01.590] | Success | \u001b[0mComputational sequence read from file /home/vinicius/Documentos/Repositories/msc/data/CMU_MOSEI_TimestampedPhones.csd ...\n",
      "\u001b[94m\u001b[1m[2024-01-28 17:38:02.342] | Status  | \u001b[0mChecking the integrity of the <phoneme> computational sequence ...\n",
      "\u001b[94m\u001b[1m[2024-01-28 17:38:02.342] | Status  | \u001b[0mChecking the format of the data in <phoneme> computational sequence ...\n"
     ]
    },
    {
     "name": "stderr",
     "output_type": "stream",
     "text": [
      "                                                                                  \r"
     ]
    },
    {
     "name": "stdout",
     "output_type": "stream",
     "text": [
      "\u001b[92m\u001b[1m[2024-01-28 17:38:05.628] | Success | \u001b[0m<phoneme> computational sequence data in correct format.\n",
      "\u001b[94m\u001b[1m[2024-01-28 17:38:05.628] | Status  | \u001b[0mChecking the format of the metadata in <phoneme> computational sequence ...\n",
      "\u001b[93m\u001b[1m[2024-01-28 17:38:05.628] | Warning | \u001b[0m<phoneme> computational sequence does not have all the required metadata ... continuing \n",
      "\u001b[92m\u001b[1m[2024-01-28 17:38:05.630] | Success | \u001b[0mComputational sequence read from file /home/vinicius/Documentos/Repositories/msc/data/CMU_MOSEI_TimestampedWordVectors.csd ...\n",
      "\u001b[94m\u001b[1m[2024-01-28 17:38:06.285] | Status  | \u001b[0mChecking the integrity of the <glove_vectors> computational sequence ...\n",
      "\u001b[94m\u001b[1m[2024-01-28 17:38:06.285] | Status  | \u001b[0mChecking the format of the data in <glove_vectors> computational sequence ...\n"
     ]
    },
    {
     "name": "stderr",
     "output_type": "stream",
     "text": [
      "                                                                                 \r"
     ]
    },
    {
     "name": "stdout",
     "output_type": "stream",
     "text": [
      "\u001b[92m\u001b[1m[2024-01-28 17:38:10.517] | Success | \u001b[0m<glove_vectors> computational sequence data in correct format.\n",
      "\u001b[94m\u001b[1m[2024-01-28 17:38:10.517] | Status  | \u001b[0mChecking the format of the metadata in <glove_vectors> computational sequence ...\n",
      "\u001b[93m\u001b[1m[2024-01-28 17:38:10.517] | Warning | \u001b[0m<glove_vectors> computational sequence does not have all the required metadata ... continuing \n",
      "\u001b[92m\u001b[1m[2024-01-28 17:38:10.518] | Success | \u001b[0mComputational sequence read from file /home/vinicius/Documentos/Repositories/msc/data/CMU_MOSEI_Labels.csd ...\n",
      "\u001b[94m\u001b[1m[2024-01-28 17:38:11.079] | Status  | \u001b[0mChecking the integrity of the <All Labels> computational sequence ...\n",
      "\u001b[94m\u001b[1m[2024-01-28 17:38:11.079] | Status  | \u001b[0mChecking the format of the data in <All Labels> computational sequence ...\n"
     ]
    },
    {
     "name": "stderr",
     "output_type": "stream",
     "text": [
      "                                                                                  \r"
     ]
    },
    {
     "name": "stdout",
     "output_type": "stream",
     "text": [
      "\u001b[92m\u001b[1m[2024-01-28 17:38:13.425] | Success | \u001b[0m<All Labels> computational sequence data in correct format.\n",
      "\u001b[94m\u001b[1m[2024-01-28 17:38:13.425] | Status  | \u001b[0mChecking the format of the metadata in <All Labels> computational sequence ...\n",
      "\u001b[93m\u001b[1m[2024-01-28 17:38:13.425] | Warning | \u001b[0m<All Labels> computational sequence does not have all the required metadata ... continuing \n",
      "\u001b[92m\u001b[1m[2024-01-28 17:38:13.427] | Success | \u001b[0mComputational sequence read from file /home/vinicius/Documentos/Repositories/msc/data/CMU_MOSEI_TimestampedWords.csd ...\n",
      "\u001b[94m\u001b[1m[2024-01-28 17:38:14.385] | Status  | \u001b[0mChecking the integrity of the <words> computational sequence ...\n",
      "\u001b[94m\u001b[1m[2024-01-28 17:38:14.385] | Status  | \u001b[0mChecking the format of the data in <words> computational sequence ...\n"
     ]
    },
    {
     "name": "stderr",
     "output_type": "stream",
     "text": [
      "                                                                                  \r"
     ]
    },
    {
     "name": "stdout",
     "output_type": "stream",
     "text": [
      "\u001b[92m\u001b[1m[2024-01-28 17:38:17.711] | Success | \u001b[0m<words> computational sequence data in correct format.\n",
      "\u001b[94m\u001b[1m[2024-01-28 17:38:17.711] | Status  | \u001b[0mChecking the format of the metadata in <words> computational sequence ...\n",
      "\u001b[93m\u001b[1m[2024-01-28 17:38:17.711] | Warning | \u001b[0m<words> computational sequence does not have all the required metadata ... continuing \n",
      "\u001b[92m\u001b[1m[2024-01-28 17:38:17.711] | Success | \u001b[0mDataset initialized successfully ... \n",
      "<HDF5 group \"/words/data/kwkhYpCHWPw\" (2 members)>\n"
     ]
    },
    {
     "data": {
      "text/html": [
       "<div>\n",
       "<style scoped>\n",
       "    .dataframe tbody tr th:only-of-type {\n",
       "        vertical-align: middle;\n",
       "    }\n",
       "\n",
       "    .dataframe tbody tr th {\n",
       "        vertical-align: top;\n",
       "    }\n",
       "\n",
       "    .dataframe thead th {\n",
       "        text-align: right;\n",
       "    }\n",
       "</style>\n",
       "<table border=\"1\" class=\"dataframe\">\n",
       "  <thead>\n",
       "    <tr style=\"text-align: right;\">\n",
       "      <th></th>\n",
       "      <th>Sentence</th>\n",
       "      <th>Sentiment</th>\n",
       "      <th>Happiness</th>\n",
       "      <th>Sadness</th>\n",
       "      <th>Anger</th>\n",
       "      <th>Fear</th>\n",
       "      <th>Disgust</th>\n",
       "      <th>Surprise</th>\n",
       "    </tr>\n",
       "  </thead>\n",
       "  <tbody>\n",
       "    <tr>\n",
       "      <th>0</th>\n",
       "      <td>can i assume you are interested in filling out...</td>\n",
       "      <td>0.666667</td>\n",
       "      <td>1.000000</td>\n",
       "      <td>0.0</td>\n",
       "      <td>0.000000</td>\n",
       "      <td>0.000000</td>\n",
       "      <td>0.000000</td>\n",
       "      <td>0.000000</td>\n",
       "    </tr>\n",
       "    <tr>\n",
       "      <th>1</th>\n",
       "      <td>although working for walmart is something i ac...</td>\n",
       "      <td>0.666667</td>\n",
       "      <td>0.333333</td>\n",
       "      <td>0.0</td>\n",
       "      <td>0.000000</td>\n",
       "      <td>0.333333</td>\n",
       "      <td>0.000000</td>\n",
       "      <td>0.000000</td>\n",
       "    </tr>\n",
       "    <tr>\n",
       "      <th>2</th>\n",
       "      <td>you at the link is listed just below this vide...</td>\n",
       "      <td>0.666667</td>\n",
       "      <td>0.333333</td>\n",
       "      <td>0.0</td>\n",
       "      <td>0.000000</td>\n",
       "      <td>0.000000</td>\n",
       "      <td>0.000000</td>\n",
       "      <td>0.000000</td>\n",
       "    </tr>\n",
       "    <tr>\n",
       "      <th>3</th>\n",
       "      <td>me run through some of the most important item...</td>\n",
       "      <td>0.333333</td>\n",
       "      <td>0.000000</td>\n",
       "      <td>0.0</td>\n",
       "      <td>0.333333</td>\n",
       "      <td>0.000000</td>\n",
       "      <td>0.000000</td>\n",
       "      <td>0.333333</td>\n",
       "    </tr>\n",
       "    <tr>\n",
       "      <th>4</th>\n",
       "      <td>apply online as walmart does not provide a pri...</td>\n",
       "      <td>-0.333333</td>\n",
       "      <td>0.666667</td>\n",
       "      <td>0.0</td>\n",
       "      <td>0.000000</td>\n",
       "      <td>0.000000</td>\n",
       "      <td>0.333333</td>\n",
       "      <td>0.000000</td>\n",
       "    </tr>\n",
       "    <tr>\n",
       "      <th>5</th>\n",
       "      <td>old although most of walmart employees work fu...</td>\n",
       "      <td>0.333333</td>\n",
       "      <td>0.666667</td>\n",
       "      <td>0.0</td>\n",
       "      <td>0.333333</td>\n",
       "      <td>0.000000</td>\n",
       "      <td>0.000000</td>\n",
       "      <td>0.000000</td>\n",
       "    </tr>\n",
       "    <tr>\n",
       "      <th>6</th>\n",
       "      <td>depending on which walmart job you apply for y...</td>\n",
       "      <td>1.666667</td>\n",
       "      <td>1.333333</td>\n",
       "      <td>0.0</td>\n",
       "      <td>0.000000</td>\n",
       "      <td>0.000000</td>\n",
       "      <td>0.000000</td>\n",
       "      <td>0.000000</td>\n",
       "    </tr>\n",
       "    <tr>\n",
       "      <th>7</th>\n",
       "      <td>area i highly suggest that you email me your q...</td>\n",
       "      <td>1.333333</td>\n",
       "      <td>1.666667</td>\n",
       "      <td>0.0</td>\n",
       "      <td>0.000000</td>\n",
       "      <td>0.000000</td>\n",
       "      <td>0.000000</td>\n",
       "      <td>0.000000</td>\n",
       "    </tr>\n",
       "  </tbody>\n",
       "</table>\n",
       "</div>"
      ],
      "text/plain": [
       "                                            Sentence  Sentiment  Happiness  \\\n",
       "0  can i assume you are interested in filling out...   0.666667   1.000000   \n",
       "1  although working for walmart is something i ac...   0.666667   0.333333   \n",
       "2  you at the link is listed just below this vide...   0.666667   0.333333   \n",
       "3  me run through some of the most important item...   0.333333   0.000000   \n",
       "4  apply online as walmart does not provide a pri...  -0.333333   0.666667   \n",
       "5  old although most of walmart employees work fu...   0.333333   0.666667   \n",
       "6  depending on which walmart job you apply for y...   1.666667   1.333333   \n",
       "7  area i highly suggest that you email me your q...   1.333333   1.666667   \n",
       "\n",
       "   Sadness     Anger      Fear   Disgust  Surprise  \n",
       "0      0.0  0.000000  0.000000  0.000000  0.000000  \n",
       "1      0.0  0.000000  0.333333  0.000000  0.000000  \n",
       "2      0.0  0.000000  0.000000  0.000000  0.000000  \n",
       "3      0.0  0.333333  0.000000  0.000000  0.333333  \n",
       "4      0.0  0.000000  0.000000  0.333333  0.000000  \n",
       "5      0.0  0.333333  0.000000  0.000000  0.000000  \n",
       "6      0.0  0.000000  0.000000  0.000000  0.000000  \n",
       "7      0.0  0.000000  0.000000  0.000000  0.000000  "
      ]
     },
     "metadata": {},
     "output_type": "display_data"
    },
    {
     "data": {
      "text/plain": [
       "None"
      ]
     },
     "metadata": {},
     "output_type": "display_data"
    }
   ],
   "source": [
    "random_key = \"kwkhYpCHWPw\"\n",
    "words, labels = read_cmu_mosei(\n",
    "    data_dir=\"/home/vinicius/Documentos/Repositories/msc/data\"\n",
    ")\n",
    "display(open_sentence(words, labels, key=random_key))"
   ]
  }
 ],
 "metadata": {
  "kernelspec": {
   "display_name": ".venv",
   "language": "python",
   "name": "python3"
  },
  "language_info": {
   "codemirror_mode": {
    "name": "ipython",
    "version": 3
   },
   "file_extension": ".py",
   "mimetype": "text/x-python",
   "name": "python",
   "nbconvert_exporter": "python",
   "pygments_lexer": "ipython3",
   "version": "3.10.12"
  }
 },
 "nbformat": 4,
 "nbformat_minor": 2
}
